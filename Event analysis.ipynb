{
 "cells": [
  {
   "cell_type": "code",
   "execution_count": 255,
   "metadata": {
    "collapsed": false
   },
   "outputs": [],
   "source": [
    "import nltk\n",
    "import pickle\n",
    "import pandas as pd\n",
    "import re\n",
    "import matplotlib\n",
    "import pylab as plt"
   ]
  },
  {
   "cell_type": "code",
   "execution_count": 330,
   "metadata": {
    "collapsed": false
   },
   "outputs": [],
   "source": [
    "from nltk.corpus import stopwords\n",
    "import numpy as np\n",
    "from sklearn.feature_extraction.text import CountVectorizer\n",
    "from collections import Counter\n",
    "\n",
    "# Cleaning and arranging SOTU\n",
    "f = open('State of the Union Addresses 1970-2016_edited.txt')\n",
    "lines = f.readlines()\n",
    "bigline = \" \".join(lines)\n",
    "stars = bigline.split('***')\n",
    "splits = [s.split('\\n') for s in stars[1:]]\n",
    "\n",
    "filtered_words = [word for word in splits if word not in stopwords.words('english')]\n",
    "\n",
    "tups = [(s[2].strip(), s[3].strip(), s[4].strip(), \"\".join(s[5:])) for s in filtered_words]\n",
    "speech_df = pd.DataFrame(tups)"
   ]
  },
  {
   "cell_type": "code",
   "execution_count": 340,
   "metadata": {
    "collapsed": false
   },
   "outputs": [],
   "source": [
    "# overall Sotu\n",
    "\n",
    "count_vect = CountVectorizer(stop_words='english')\n",
    "count_vect.fit(speech_df[3])\n",
    "X = count_vect.transform(speech_df[3])\n",
    "freq = zip(count_vect.get_feature_names(), np.asarray(X.sum(axis=0)).ravel())\n",
    "df = pd.DataFrame(freq)\n",
    "df.columns = ['word', 'count']\n",
    "result_overall = df.sort('count', ascending=[0])\n",
    "\n",
    "top_20 = result_overall.head(20)\n",
    "\n",
    "top_20.plot(x = 'word', y = 'count',kind = 'bar')\n",
    "\n",
    "plt.show()"
   ]
  },
  {
   "cell_type": "code",
   "execution_count": 257,
   "metadata": {
    "collapsed": false
   },
   "outputs": [],
   "source": [
    "# Cleaning Violence data\n",
    "# from http://www.johnstonsarchive.net/terrorism/wrjp255a.html \n",
    "\n",
    "events = \"violence_2.csv\"\n",
    "tags = ['description']\n",
    "event_df = pd.read_csv(events, header = None, names = tags)"
   ]
  },
  {
   "cell_type": "code",
   "execution_count": 258,
   "metadata": {
    "collapsed": false
   },
   "outputs": [],
   "source": [
    "# vectorizing violence and finding top 10\n",
    "count_vect = CountVectorizer(stop_words='english')\n",
    "\n",
    "count_vect.fit(event_df['description'])\n",
    "X = count_vect.transform(event_df['description'])\n",
    "\n",
    "freq = zip(count_vect.get_feature_names(), np.asarray(X.sum(axis=0)).ravel())\n",
    "\n",
    "df = pd.DataFrame(freq)\n",
    "\n",
    "df.columns = ['word', 'count']\n",
    "result = df.sort('count', ascending=[0])\n",
    "top_10 = result.head(10)"
   ]
  },
  {
   "cell_type": "code",
   "execution_count": 269,
   "metadata": {
    "collapsed": false
   },
   "outputs": [],
   "source": [
    "# Data set with type of event and year\n",
    "\n",
    "events_year = \"Events by year.csv\"\n",
    "tags_year = ['year','type']\n",
    "event_year_df = pd.read_csv(events_year, header = True, names = tags_year)\n",
    "\n",
    "event_year_df['year_string'] = event_year_df['year'].astype(str).str[:-2]\n",
    "\n",
    "event_pivot = pd.pivot_table(event_year_df,index='year_string', columns='type', aggfunc=len, fill_value=0)"
   ]
  },
  {
   "cell_type": "code",
   "execution_count": 260,
   "metadata": {
    "collapsed": false
   },
   "outputs": [],
   "source": [
    "# vectorizing SOTU and finding the count of words in each\n",
    "\n",
    "columns = ['word','count','Pres','Date']\n",
    "df_words = pd.DataFrame(columns=columns)\n",
    "df_words = df_words.fillna(0)\n",
    "\n",
    "for i in range(len(speech_df)):\n",
    "    words = speech_df.loc[i,3].lower().split()\n",
    "    count = Counter(words).items()\n",
    "    df_speech_words = pd.DataFrame(count)\n",
    "    df_speech_words.columns = ['word', 'count']\n",
    "    df_speech_words['Pres'] = speech_df.loc[i,1]\n",
    "    df_speech_words['Date'] = speech_df.loc[i,2]\n",
    "\n",
    "\n",
    "    df_words = df_words.append(df_speech_words)"
   ]
  },
  {
   "cell_type": "code",
   "execution_count": 261,
   "metadata": {
    "collapsed": false
   },
   "outputs": [],
   "source": [
    "# merge top 10 list and \n",
    "combined_result = pd.merge(top_10, df_words, how='inner', on=['word'])\n",
    "combined_result['year'] = combined_result['Date'].str[-4:]"
   ]
  },
  {
   "cell_type": "code",
   "execution_count": 262,
   "metadata": {
    "collapsed": false
   },
   "outputs": [],
   "source": [
    "pivoted = pd.pivot_table(combined_result, values='count_y', columns='word', index='year')"
   ]
  },
  {
   "cell_type": "code",
   "execution_count": 314,
   "metadata": {
    "collapsed": false
   },
   "outputs": [],
   "source": [
    "# Combining speech and events\n",
    "\n",
    "results_to_plot = pd.concat([pivoted,event_pivot], axis=1).fillna(0)\n",
    "\n",
    "ax = results_to_plot['shot'].plot(kind=\"bar\", legend = True);plt.xticks(rotation=90)\n",
    "ax.set_xlabel('Year')\n",
    "ax.set_ylabel('count')\n",
    "\n",
    "plt.plot(ax.get_xticks(), results_to_plot['year','TER-islm'], '-b', label='Islamic Terrorism')\n",
    "plt.plot(ax.get_xticks(), results_to_plot['year','TER-right'], '-r', label='Rightist Terrorism')\n",
    "plt.plot(ax.get_xticks(), results_to_plot['year','TER-left'], '-g', label='Leftist Terrorism')\n",
    "plt.plot(ax.get_xticks(), results_to_plot['year','CRI'], '-c', label='Criminal Incident')\n",
    "plt.plot(ax.get_xticks(), results_to_plot['year','TER-natl'], '-m', label='Nationalist Terrorism')\n",
    "plt.legend(loc='upper left')\n",
    "\n",
    "plt.show()"
   ]
  }
 ],
 "metadata": {
  "kernelspec": {
   "display_name": "Python 2",
   "language": "python",
   "name": "python2"
  },
  "language_info": {
   "codemirror_mode": {
    "name": "ipython",
    "version": 2
   },
   "file_extension": ".py",
   "mimetype": "text/x-python",
   "name": "python",
   "nbconvert_exporter": "python",
   "pygments_lexer": "ipython2",
   "version": "2.7.11"
  }
 },
 "nbformat": 4,
 "nbformat_minor": 0
}
