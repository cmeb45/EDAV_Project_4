{
 "cells": [
  {
   "cell_type": "code",
   "execution_count": 1,
   "metadata": {
    "collapsed": false
   },
   "outputs": [],
   "source": [
    "import pandas as pd\n",
    "import seaborn as sns\n",
    "import gensim"
   ]
  },
  {
   "cell_type": "code",
   "execution_count": 2,
   "metadata": {
    "collapsed": false
   },
   "outputs": [
    {
     "name": "stdout",
     "output_type": "stream",
     "text": [
      "Populating the interactive namespace from numpy and matplotlib\n"
     ]
    }
   ],
   "source": [
    "%pylab inline"
   ]
  },
  {
   "cell_type": "code",
   "execution_count": 67,
   "metadata": {
    "collapsed": true
   },
   "outputs": [],
   "source": [
    "test = pd.read_csv('../data/speeches.csv')"
   ]
  },
  {
   "cell_type": "code",
   "execution_count": 3,
   "metadata": {
    "collapsed": true
   },
   "outputs": [],
   "source": [
    "f = open('../data/State+of+the+Union+Addresses+1970-2016.txt')\n",
    "lines = f.readlines()\n",
    "bigline = \" \".join(lines)\n",
    "stars = bigline.split('***')\n",
    "splits = [s.split('\\r\\n') for s in stars[1:]]\n",
    "tups = [(s[2], s[3], s[4], \"\".join(s[5:])) for s in splits]\n",
    "speech_df = pd.DataFrame(tups)"
   ]
  },
  {
   "cell_type": "code",
   "execution_count": 4,
   "metadata": {
    "collapsed": false
   },
   "outputs": [],
   "source": [
    "speech_df.columns = ['type', 'president', 'date', 'text']"
   ]
  },
  {
   "cell_type": "code",
   "execution_count": 5,
   "metadata": {
    "collapsed": false
   },
   "outputs": [],
   "source": [
    "# speech_df.to_csv('../data/speeches.csv', index=False)"
   ]
  },
  {
   "cell_type": "markdown",
   "metadata": {},
   "source": [
    "### TF-IDF w/ Scikits"
   ]
  },
  {
   "cell_type": "code",
   "execution_count": 6,
   "metadata": {
    "collapsed": true
   },
   "outputs": [],
   "source": [
    "import nltk\n",
    "import string\n",
    "import os\n",
    "\n",
    "from sklearn.feature_extraction.text import TfidfVectorizer, CountVectorizer\n",
    "from nltk.stem.porter import PorterStemmer\n",
    "\n",
    "stemmer = PorterStemmer()\n",
    "\n",
    "def stem_tokens(tokens, stemmer):\n",
    "    stemmed = []\n",
    "    for item in tokens:\n",
    "        stemmed.append(stemmer.stem(item))\n",
    "    return stemmed\n",
    "\n",
    "def tokenize(text):\n",
    "    tokens = nltk.word_tokenize(text)\n",
    "    stems = stem_tokens(tokens, stemmer)\n",
    "    return stems"
   ]
  },
  {
   "cell_type": "code",
   "execution_count": 7,
   "metadata": {
    "collapsed": false
   },
   "outputs": [],
   "source": [
    "speech_df['text'] = speech_df.text.apply(lambda s: s.lower())\n",
    "speech_df['text'] = speech_df.text.apply(lambda s: s.translate(None, string.punctuation))\n",
    "speech_df['date'] = speech_df.date.apply(pd.to_datetime)"
   ]
  },
  {
   "cell_type": "code",
   "execution_count": 8,
   "metadata": {
    "collapsed": true
   },
   "outputs": [],
   "source": [
    "final_df = speech_df.loc[speech_df.date > '1/1/1970'].reset_index()"
   ]
  },
  {
   "cell_type": "code",
   "execution_count": 73,
   "metadata": {
    "collapsed": false
   },
   "outputs": [],
   "source": [
    "final_df.to_csv('../data/modern_speeches.csv', index=False)"
   ]
  },
  {
   "cell_type": "code",
   "execution_count": 62,
   "metadata": {
    "collapsed": false
   },
   "outputs": [],
   "source": [
    "tfidf = TfidfVectorizer(stop_words='english', min_df=2)\n",
    "tfidf_tfs = tfidf.fit_transform(final_df.text.as_matrix())"
   ]
  },
  {
   "cell_type": "code",
   "execution_count": 63,
   "metadata": {
    "collapsed": false
   },
   "outputs": [],
   "source": [
    "tfidf_df = pd.DataFrame(tfidf_tfs.toarray(), columns=tfidf.get_feature_names())"
   ]
  },
  {
   "cell_type": "code",
   "execution_count": 64,
   "metadata": {
    "collapsed": false
   },
   "outputs": [],
   "source": [
    "# tfidf_df.america.index = tfidf_df.date"
   ]
  },
  {
   "cell_type": "code",
   "execution_count": 66,
   "metadata": {
    "collapsed": false
   },
   "outputs": [],
   "source": [
    "# tfidf_df.america.plot(figsize=(10,4))"
   ]
  },
  {
   "cell_type": "code",
   "execution_count": 12,
   "metadata": {
    "collapsed": false
   },
   "outputs": [],
   "source": [
    "pres = list(final_df.president.unique())"
   ]
  },
  {
   "cell_type": "code",
   "execution_count": 13,
   "metadata": {
    "collapsed": true
   },
   "outputs": [],
   "source": [
    "parties = ['r', 'r', 'd', 'r', 'r', 'd', 'r', 'd']"
   ]
  },
  {
   "cell_type": "code",
   "execution_count": 14,
   "metadata": {
    "collapsed": false
   },
   "outputs": [],
   "source": [
    "pres_party = pd.DataFrame({'president': pres[:-2] + [' Barack Obama'], 'party': parties})"
   ]
  },
  {
   "cell_type": "code",
   "execution_count": 15,
   "metadata": {
    "collapsed": false
   },
   "outputs": [],
   "source": [
    "final_party = pd.merge(final_df, pres_party, how='left', on='president')"
   ]
  },
  {
   "cell_type": "markdown",
   "metadata": {},
   "source": [
    "### Term Frequencies"
   ]
  },
  {
   "cell_type": "code",
   "execution_count": 16,
   "metadata": {
    "collapsed": false
   },
   "outputs": [],
   "source": [
    "tf_vectorizer = CountVectorizer(stop_words='english', min_df=2)\n",
    "tfs = tf_vectorizer.fit_transform(final_df.text.as_matrix())"
   ]
  },
  {
   "cell_type": "code",
   "execution_count": 17,
   "metadata": {
    "collapsed": true
   },
   "outputs": [],
   "source": [
    "tf_df = pd.DataFrame(tfs.toarray(), columns=tf_vectorizer.get_feature_names())"
   ]
  },
  {
   "cell_type": "code",
   "execution_count": 18,
   "metadata": {
    "collapsed": false
   },
   "outputs": [],
   "source": [
    "tf_df = pd.DataFrame(tfs.toarray(), columns=tf_vectorizer.get_feature_names())"
   ]
  },
  {
   "cell_type": "code",
   "execution_count": 19,
   "metadata": {
    "collapsed": false
   },
   "outputs": [],
   "source": [
    "top_100 = tf_df.sum().order(ascending=False).index[:100]"
   ]
  },
  {
   "cell_type": "code",
   "execution_count": 50,
   "metadata": {
    "collapsed": false
   },
   "outputs": [],
   "source": [
    "# top_100"
   ]
  },
  {
   "cell_type": "markdown",
   "metadata": {},
   "source": [
    "### Topic Modeling"
   ]
  },
  {
   "cell_type": "code",
   "execution_count": 21,
   "metadata": {
    "collapsed": false
   },
   "outputs": [],
   "source": [
    "from gensim import models, corpora\n",
    "from nltk.corpus import stopwords"
   ]
  },
  {
   "cell_type": "code",
   "execution_count": 22,
   "metadata": {
    "collapsed": false
   },
   "outputs": [],
   "source": [
    "# corpus = gensim.matutils.Dense2Corpus(final_df.text.as_matrix())"
   ]
  },
  {
   "cell_type": "code",
   "execution_count": 23,
   "metadata": {
    "collapsed": false
   },
   "outputs": [],
   "source": [
    "docs = final_df.text.apply(lambda s: s.split(' '))"
   ]
  },
  {
   "cell_type": "code",
   "execution_count": 38,
   "metadata": {
    "collapsed": false
   },
   "outputs": [],
   "source": [
    "docs = docs.apply(lambda doc: [w.strip() for w in doc \n",
    "                               if w.strip() not in stopwords.words('english') + ['applause', 'laughter']])"
   ]
  },
  {
   "cell_type": "code",
   "execution_count": 39,
   "metadata": {
    "collapsed": false
   },
   "outputs": [],
   "source": [
    "dictionary = corpora.Dictionary(docs)"
   ]
  },
  {
   "cell_type": "code",
   "execution_count": 40,
   "metadata": {
    "collapsed": false
   },
   "outputs": [],
   "source": [
    "# stops = set(\"for a of the to and in is\".split(\" \"))"
   ]
  },
  {
   "cell_type": "code",
   "execution_count": 41,
   "metadata": {
    "collapsed": false
   },
   "outputs": [],
   "source": [
    "corpus = [dictionary.doc2bow(doc) for doc in docs]"
   ]
  },
  {
   "cell_type": "code",
   "execution_count": 42,
   "metadata": {
    "collapsed": false
   },
   "outputs": [],
   "source": [
    "tfidf = gensim.models.TfidfModel(corpus=corpus)"
   ]
  },
  {
   "cell_type": "code",
   "execution_count": 43,
   "metadata": {
    "collapsed": true
   },
   "outputs": [],
   "source": [
    "corpus_tfidf = tfidf[corpus]"
   ]
  },
  {
   "cell_type": "code",
   "execution_count": 74,
   "metadata": {
    "collapsed": true
   },
   "outputs": [],
   "source": [
    "lsi = models.LsiModel(corpus_tfidf, id2word=dictionary, num_topics=10)"
   ]
  },
  {
   "cell_type": "code",
   "execution_count": 75,
   "metadata": {
    "collapsed": false
   },
   "outputs": [
    {
     "data": {
      "text/plain": [
       "[(0,\n",
       "  u'0.079*\"thats\" + 0.069*\"iraq\" + 0.064*\"welfare\" + 0.064*\"college\" + 0.056*\"oil\" + 0.054*\"lets\" + 0.053*\"terror\" + 0.052*\"iraqi\" + 0.052*\"terrorists\" + 0.051*\"weve\"'),\n",
       " (1,\n",
       "  u'-0.119*\"shall\" + -0.104*\"soviet\" + 0.096*\"iraq\" + 0.080*\"thats\" + 0.077*\"iraqi\" + 0.075*\"terrorists\" + -0.073*\"1980\" + 0.072*\"al\" + -0.071*\"1974\" + 0.071*\"terror\"'),\n",
       " (2,\n",
       "  u'-0.157*\"iraqi\" + -0.156*\"iraq\" + -0.152*\"qaeda\" + -0.147*\"terror\" + -0.117*\"terrorists\" + -0.116*\"iraqis\" + 0.101*\"thats\" + -0.096*\"terrorist\" + -0.095*\"saddam\" + -0.084*\"11th\"'),\n",
       " (3,\n",
       "  u'0.117*\"welfare\" + 0.116*\"21st\" + -0.115*\"thats\" + 0.111*\"ought\" + -0.094*\"oil\" + -0.072*\"manufacturing\" + 0.071*\"bosnia\" + 0.070*\"millennium\" + 0.070*\"tobacco\" + -0.067*\"cory\"'),\n",
       " (4,\n",
       "  u'-0.201*\"shall\" + 0.123*\"soviet\" + -0.108*\"92d\" + -0.092*\"seventies\" + -0.088*\"property\" + -0.085*\"sixties\" + -0.082*\"localities\" + -0.067*\"colleagues\" + -0.063*\"parks\" + -0.062*\"session\"')]"
      ]
     },
     "execution_count": 75,
     "metadata": {},
     "output_type": "execute_result"
    }
   ],
   "source": [
    "lsi.print_topics(5)"
   ]
  },
  {
   "cell_type": "code",
   "execution_count": 47,
   "metadata": {
    "collapsed": false
   },
   "outputs": [
    {
     "name": "stderr",
     "output_type": "stream",
     "text": [
      "WARNING:gensim.models.ldamodel:too few updates, training might not converge; consider increasing the number of passes or iterations to improve accuracy\n"
     ]
    }
   ],
   "source": [
    "lda = models.ldamodel.LdaModel(corpus=corpus_tfidf, id2word=dictionary, num_topics=10)"
   ]
  },
  {
   "cell_type": "code",
   "execution_count": 48,
   "metadata": {
    "collapsed": false
   },
   "outputs": [
    {
     "data": {
      "text/plain": [
       "[(0,\n",
       "  u'0.000*1974 + 0.000*canal + 0.000*shall + 0.000*thats + 0.000*inflation + 0.000*space + 0.000*gun + 0.000*brandon + 0.000*companies + 0.000*energy'),\n",
       " (1,\n",
       "  u'0.000*thats + 0.000*iraq + 0.000*college + 0.000*rebekah + 0.000*banks + 0.000*ought + 0.000*lending + 0.000*childcare + 0.000*21st + 0.000*lobbyists'),\n",
       " (2,\n",
       "  u'0.000*gun + 0.000*1973 + 0.000*college + 0.000*thats + 0.000*lets + 0.000*kids + 0.000*internet + 0.000*manufacturing + 0.000*hightech + 0.000*idea'),\n",
       " (3,\n",
       "  u'0.000*terror + 0.000*regimes + 0.000*shall + 0.000*iraq + 0.000*11th + 0.000*terrorist + 0.000*homeland + 0.000*camps + 0.000*terrorists + 0.000*saddam'),\n",
       " (4,\n",
       "  u'0.000*hussein + 0.000*saddam + 0.000*retreat + 0.000*aids + 0.000*iraqi + 0.000*inspectors + 0.000*disarm + 0.000*terrorist + 0.000*iraqis + 0.000*alqaida'),\n",
       " (5,\n",
       "  u'0.000*cory + 0.000*1975 + 0.000*iraq + 0.000*qaeda + 0.000*iraqi + 0.000*al + 0.000*extremists + 0.000*oil + 0.000*direction + 0.000*iraqis'),\n",
       " (6,\n",
       "  u'0.000*salt + 0.000*welfare + 0.000*ought + 0.000*richard + 0.000*crime + 0.000*covenant + 0.000*foundation + 0.000*shall + 0.000*challenge + 0.000*administration'),\n",
       " (7,\n",
       "  u'0.000*iraqi + 0.000*iraq + 0.000*qaeda + 0.000*empower + 0.000*al + 0.000*estate + 0.000*salt + 0.000*extremists + 0.000*music + 0.000*earmarks'),\n",
       " (8,\n",
       "  u'0.000*soviet + 0.000*saddam + 0.000*hussein + 0.000*100th + 0.000*shall + 0.000*92d + 0.000*welfare + 0.000*oil + 0.000*inspectors + 0.000*alqaida'),\n",
       " (9,\n",
       "  u'0.000*isil + 0.000*steven + 0.000*josefina + 0.000*thats + 0.000*mayor + 0.000*voices + 0.000*1974 + 0.000*surplus + 0.000*needy + 0.000*messages')]"
      ]
     },
     "execution_count": 48,
     "metadata": {},
     "output_type": "execute_result"
    }
   ],
   "source": [
    "lda.print_topics(10)"
   ]
  },
  {
   "cell_type": "code",
   "execution_count": 49,
   "metadata": {
    "collapsed": false
   },
   "outputs": [],
   "source": [
    "# lda = models.LdaModel(corpus=tfidf, id2word=dictionary, num_topics=4, passes=20)"
   ]
  },
  {
   "cell_type": "code",
   "execution_count": 143,
   "metadata": {
    "collapsed": false
   },
   "outputs": [],
   "source": [
    "# lda.print_topics()"
   ]
  },
  {
   "cell_type": "markdown",
   "metadata": {},
   "source": [
    "### Similarities"
   ]
  },
  {
   "cell_type": "code",
   "execution_count": 52,
   "metadata": {
    "collapsed": true
   },
   "outputs": [],
   "source": [
    "from gensim import similarities"
   ]
  },
  {
   "cell_type": "code",
   "execution_count": 53,
   "metadata": {
    "collapsed": false
   },
   "outputs": [
    {
     "name": "stderr",
     "output_type": "stream",
     "text": [
      "WARNING:gensim.similarities.docsim:scanning corpus to determine the number of features (consider setting `num_features` explicitly)\n"
     ]
    }
   ],
   "source": [
    "index = similarities.MatrixSimilarity(lsi[corpus])"
   ]
  },
  {
   "cell_type": "markdown",
   "metadata": {},
   "source": [
    "### Analysis Ideas\n",
    "1. Topics / important terms over time\n",
    "2. Topics / important terms by party\n",
    "3. How parties are similar in terms speech type / topics\n",
    "4. Speech similarities"
   ]
  },
  {
   "cell_type": "code",
   "execution_count": null,
   "metadata": {
    "collapsed": true
   },
   "outputs": [],
   "source": []
  }
 ],
 "metadata": {
  "kernelspec": {
   "display_name": "Python 2",
   "language": "python",
   "name": "python2"
  },
  "language_info": {
   "codemirror_mode": {
    "name": "ipython",
    "version": 2
   },
   "file_extension": ".py",
   "mimetype": "text/x-python",
   "name": "python",
   "nbconvert_exporter": "python",
   "pygments_lexer": "ipython2",
   "version": "2.7.10"
  }
 },
 "nbformat": 4,
 "nbformat_minor": 0
}
